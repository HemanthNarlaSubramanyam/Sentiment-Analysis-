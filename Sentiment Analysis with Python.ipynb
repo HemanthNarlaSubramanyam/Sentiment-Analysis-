{
 "cells": [
  {
   "cell_type": "code",
   "execution_count": 1,
   "id": "21dff648",
   "metadata": {},
   "outputs": [
    {
     "name": "stderr",
     "output_type": "stream",
     "text": [
      "[nltk_data] Downloading package vader_lexicon to\n",
      "[nltk_data]     /Users/hemanthnarlasubramanyam/nltk_data...\n"
     ]
    }
   ],
   "source": [
    "import pandas as pd\n",
    "import re\n",
    "import nltk\n",
    "nltk.download(\"vader_lexicon\")\n",
    "from nltk.sentiment.vader import SentimentIntensityAnalyzer"
   ]
  },
  {
   "cell_type": "code",
   "execution_count": 4,
   "id": "c7513fdd",
   "metadata": {
    "scrolled": true
   },
   "outputs": [
    {
     "data": {
      "text/html": [
       "<div>\n",
       "<style scoped>\n",
       "    .dataframe tbody tr th:only-of-type {\n",
       "        vertical-align: middle;\n",
       "    }\n",
       "\n",
       "    .dataframe tbody tr th {\n",
       "        vertical-align: top;\n",
       "    }\n",
       "\n",
       "    .dataframe thead th {\n",
       "        text-align: right;\n",
       "    }\n",
       "</style>\n",
       "<table border=\"1\" class=\"dataframe\">\n",
       "  <thead>\n",
       "    <tr style=\"text-align: right;\">\n",
       "      <th></th>\n",
       "      <th>reviewer_id</th>\n",
       "      <th>store_name</th>\n",
       "      <th>category</th>\n",
       "      <th>store_address</th>\n",
       "      <th>latitude</th>\n",
       "      <th>longitude</th>\n",
       "      <th>rating_count</th>\n",
       "      <th>review_time</th>\n",
       "      <th>review</th>\n",
       "      <th>rating</th>\n",
       "    </tr>\n",
       "  </thead>\n",
       "  <tbody>\n",
       "    <tr>\n",
       "      <th>0</th>\n",
       "      <td>1</td>\n",
       "      <td>McDonald's</td>\n",
       "      <td>Fast food restaurant</td>\n",
       "      <td>13749 US-183 Hwy, Austin, TX 78750, United States</td>\n",
       "      <td>30.460718</td>\n",
       "      <td>-97.792874</td>\n",
       "      <td>1,240</td>\n",
       "      <td>3 months ago</td>\n",
       "      <td>Why does it look like someone spit on my food?...</td>\n",
       "      <td>1 star</td>\n",
       "    </tr>\n",
       "    <tr>\n",
       "      <th>1</th>\n",
       "      <td>2</td>\n",
       "      <td>McDonald's</td>\n",
       "      <td>Fast food restaurant</td>\n",
       "      <td>13749 US-183 Hwy, Austin, TX 78750, United States</td>\n",
       "      <td>30.460718</td>\n",
       "      <td>-97.792874</td>\n",
       "      <td>1,240</td>\n",
       "      <td>5 days ago</td>\n",
       "      <td>It'd McDonalds. It is what it is as far as the...</td>\n",
       "      <td>4 stars</td>\n",
       "    </tr>\n",
       "    <tr>\n",
       "      <th>2</th>\n",
       "      <td>3</td>\n",
       "      <td>McDonald's</td>\n",
       "      <td>Fast food restaurant</td>\n",
       "      <td>13749 US-183 Hwy, Austin, TX 78750, United States</td>\n",
       "      <td>30.460718</td>\n",
       "      <td>-97.792874</td>\n",
       "      <td>1,240</td>\n",
       "      <td>5 days ago</td>\n",
       "      <td>Made a mobile order got to the speaker and che...</td>\n",
       "      <td>1 star</td>\n",
       "    </tr>\n",
       "    <tr>\n",
       "      <th>3</th>\n",
       "      <td>4</td>\n",
       "      <td>McDonald's</td>\n",
       "      <td>Fast food restaurant</td>\n",
       "      <td>13749 US-183 Hwy, Austin, TX 78750, United States</td>\n",
       "      <td>30.460718</td>\n",
       "      <td>-97.792874</td>\n",
       "      <td>1,240</td>\n",
       "      <td>a month ago</td>\n",
       "      <td>My mc. Crispy chicken sandwich was ï¿½ï¿½ï¿½ï¿...</td>\n",
       "      <td>5 stars</td>\n",
       "    </tr>\n",
       "    <tr>\n",
       "      <th>4</th>\n",
       "      <td>5</td>\n",
       "      <td>McDonald's</td>\n",
       "      <td>Fast food restaurant</td>\n",
       "      <td>13749 US-183 Hwy, Austin, TX 78750, United States</td>\n",
       "      <td>30.460718</td>\n",
       "      <td>-97.792874</td>\n",
       "      <td>1,240</td>\n",
       "      <td>2 months ago</td>\n",
       "      <td>I repeat my order 3 times in the drive thru, a...</td>\n",
       "      <td>1 star</td>\n",
       "    </tr>\n",
       "  </tbody>\n",
       "</table>\n",
       "</div>"
      ],
      "text/plain": [
       "   reviewer_id  store_name              category   \n",
       "0            1  McDonald's  Fast food restaurant  \\\n",
       "1            2  McDonald's  Fast food restaurant   \n",
       "2            3  McDonald's  Fast food restaurant   \n",
       "3            4  McDonald's  Fast food restaurant   \n",
       "4            5  McDonald's  Fast food restaurant   \n",
       "\n",
       "                                       store_address  latitude   longitude   \n",
       "0  13749 US-183 Hwy, Austin, TX 78750, United States  30.460718 -97.792874  \\\n",
       "1  13749 US-183 Hwy, Austin, TX 78750, United States  30.460718 -97.792874   \n",
       "2  13749 US-183 Hwy, Austin, TX 78750, United States  30.460718 -97.792874   \n",
       "3  13749 US-183 Hwy, Austin, TX 78750, United States  30.460718 -97.792874   \n",
       "4  13749 US-183 Hwy, Austin, TX 78750, United States  30.460718 -97.792874   \n",
       "\n",
       "  rating_count   review_time   \n",
       "0        1,240  3 months ago  \\\n",
       "1        1,240    5 days ago   \n",
       "2        1,240    5 days ago   \n",
       "3        1,240   a month ago   \n",
       "4        1,240  2 months ago   \n",
       "\n",
       "                                              review   rating  \n",
       "0  Why does it look like someone spit on my food?...   1 star  \n",
       "1  It'd McDonalds. It is what it is as far as the...  4 stars  \n",
       "2  Made a mobile order got to the speaker and che...   1 star  \n",
       "3  My mc. Crispy chicken sandwich was ï¿½ï¿½ï¿½ï¿...  5 stars  \n",
       "4  I repeat my order 3 times in the drive thru, a...   1 star  "
      ]
     },
     "execution_count": 4,
     "metadata": {},
     "output_type": "execute_result"
    }
   ],
   "source": [
    "data = \"/Users/hemanthnarlasubramanyam/Documents/Projects/Sentiment analysis/McDonald_s_Reviews.csv\"\n",
    "\n",
    "df = pd.read_csv(data , encoding= 'unicode_escape')\n",
    "\n",
    "df.head()"
   ]
  },
  {
   "cell_type": "code",
   "execution_count": 5,
   "id": "2cbc7885",
   "metadata": {},
   "outputs": [
    {
     "data": {
      "text/html": [
       "<div>\n",
       "<style scoped>\n",
       "    .dataframe tbody tr th:only-of-type {\n",
       "        vertical-align: middle;\n",
       "    }\n",
       "\n",
       "    .dataframe tbody tr th {\n",
       "        vertical-align: top;\n",
       "    }\n",
       "\n",
       "    .dataframe thead th {\n",
       "        text-align: right;\n",
       "    }\n",
       "</style>\n",
       "<table border=\"1\" class=\"dataframe\">\n",
       "  <thead>\n",
       "    <tr style=\"text-align: right;\">\n",
       "      <th></th>\n",
       "      <th>review</th>\n",
       "      <th>review_time</th>\n",
       "      <th>rating</th>\n",
       "    </tr>\n",
       "  </thead>\n",
       "  <tbody>\n",
       "    <tr>\n",
       "      <th>0</th>\n",
       "      <td>Why does it look like someone spit on my food?...</td>\n",
       "      <td>3 months ago</td>\n",
       "      <td>1 star</td>\n",
       "    </tr>\n",
       "    <tr>\n",
       "      <th>1</th>\n",
       "      <td>It'd McDonalds. It is what it is as far as the...</td>\n",
       "      <td>5 days ago</td>\n",
       "      <td>4 stars</td>\n",
       "    </tr>\n",
       "    <tr>\n",
       "      <th>2</th>\n",
       "      <td>Made a mobile order got to the speaker and che...</td>\n",
       "      <td>5 days ago</td>\n",
       "      <td>1 star</td>\n",
       "    </tr>\n",
       "    <tr>\n",
       "      <th>3</th>\n",
       "      <td>My mc. Crispy chicken sandwich was ï¿½ï¿½ï¿½ï¿...</td>\n",
       "      <td>a month ago</td>\n",
       "      <td>5 stars</td>\n",
       "    </tr>\n",
       "    <tr>\n",
       "      <th>4</th>\n",
       "      <td>I repeat my order 3 times in the drive thru, a...</td>\n",
       "      <td>2 months ago</td>\n",
       "      <td>1 star</td>\n",
       "    </tr>\n",
       "  </tbody>\n",
       "</table>\n",
       "</div>"
      ],
      "text/plain": [
       "                                              review   review_time   rating\n",
       "0  Why does it look like someone spit on my food?...  3 months ago   1 star\n",
       "1  It'd McDonalds. It is what it is as far as the...    5 days ago  4 stars\n",
       "2  Made a mobile order got to the speaker and che...    5 days ago   1 star\n",
       "3  My mc. Crispy chicken sandwich was ï¿½ï¿½ï¿½ï¿...   a month ago  5 stars\n",
       "4  I repeat my order 3 times in the drive thru, a...  2 months ago   1 star"
      ]
     },
     "execution_count": 5,
     "metadata": {},
     "output_type": "execute_result"
    }
   ],
   "source": [
    "#create a new data frame using only the needed column\n",
    "\n",
    "rev = df[['review', 'review_time','rating']].copy()\n",
    "\n",
    "rev.head()"
   ]
  },
  {
   "cell_type": "code",
   "execution_count": 7,
   "id": "2177096f",
   "metadata": {},
   "outputs": [
    {
     "data": {
      "text/html": [
       "<div>\n",
       "<style scoped>\n",
       "    .dataframe tbody tr th:only-of-type {\n",
       "        vertical-align: middle;\n",
       "    }\n",
       "\n",
       "    .dataframe tbody tr th {\n",
       "        vertical-align: top;\n",
       "    }\n",
       "\n",
       "    .dataframe thead th {\n",
       "        text-align: right;\n",
       "    }\n",
       "</style>\n",
       "<table border=\"1\" class=\"dataframe\">\n",
       "  <thead>\n",
       "    <tr style=\"text-align: right;\">\n",
       "      <th></th>\n",
       "      <th>review</th>\n",
       "      <th>cleaned_review</th>\n",
       "    </tr>\n",
       "  </thead>\n",
       "  <tbody>\n",
       "    <tr>\n",
       "      <th>0</th>\n",
       "      <td>Why does it look like someone spit on my food?...</td>\n",
       "      <td>Why does it look like someone spit on my food\\...</td>\n",
       "    </tr>\n",
       "    <tr>\n",
       "      <th>1</th>\n",
       "      <td>It'd McDonalds. It is what it is as far as the...</td>\n",
       "      <td>It'd McDonalds. It is what it is as far as the...</td>\n",
       "    </tr>\n",
       "    <tr>\n",
       "      <th>2</th>\n",
       "      <td>Made a mobile order got to the speaker and che...</td>\n",
       "      <td>Made a mobile order got to the speaker and che...</td>\n",
       "    </tr>\n",
       "    <tr>\n",
       "      <th>3</th>\n",
       "      <td>My mc. Crispy chicken sandwich was ï¿½ï¿½ï¿½ï¿...</td>\n",
       "      <td>My mc. Crispy chicken sandwich was  customer s...</td>\n",
       "    </tr>\n",
       "    <tr>\n",
       "      <th>4</th>\n",
       "      <td>I repeat my order 3 times in the drive thru, a...</td>\n",
       "      <td>I repeat my order 3 times in the drive thru an...</td>\n",
       "    </tr>\n",
       "  </tbody>\n",
       "</table>\n",
       "</div>"
      ],
      "text/plain": [
       "                                              review   \n",
       "0  Why does it look like someone spit on my food?...  \\\n",
       "1  It'd McDonalds. It is what it is as far as the...   \n",
       "2  Made a mobile order got to the speaker and che...   \n",
       "3  My mc. Crispy chicken sandwich was ï¿½ï¿½ï¿½ï¿...   \n",
       "4  I repeat my order 3 times in the drive thru, a...   \n",
       "\n",
       "                                      cleaned_review  \n",
       "0  Why does it look like someone spit on my food\\...  \n",
       "1  It'd McDonalds. It is what it is as far as the...  \n",
       "2  Made a mobile order got to the speaker and che...  \n",
       "3  My mc. Crispy chicken sandwich was  customer s...  \n",
       "4  I repeat my order 3 times in the drive thru an...  "
      ]
     },
     "execution_count": 7,
     "metadata": {},
     "output_type": "execute_result"
    }
   ],
   "source": [
    "#create a function to identify and remove special characters\n",
    "def special_char(text):\n",
    "    #convert to string to handle potential non string data types\n",
    "    \n",
    "    text = str(text)\n",
    "    cleaned_text = re.sub('[^a-zA-Z0-9\\s\\'.]' , '', text)\n",
    "    return cleaned_text\n",
    "rev['cleaned_review'] = rev['review'].apply(special_char)\n",
    "rev[['review' , 'cleaned_review']].head(5)"
   ]
  },
  {
   "cell_type": "code",
   "execution_count": 8,
   "id": "f02d8011",
   "metadata": {},
   "outputs": [],
   "source": [
    "del rev[\"review\"]"
   ]
  },
  {
   "cell_type": "code",
   "execution_count": 9,
   "id": "3ddfe768",
   "metadata": {},
   "outputs": [
    {
     "data": {
      "text/plain": [
       "0         1 star\n",
       "1        4 stars\n",
       "2         1 star\n",
       "3        5 stars\n",
       "4         1 star\n",
       "          ...   \n",
       "33391     1 star\n",
       "33392    5 stars\n",
       "33393    4 stars\n",
       "33394    5 stars\n",
       "33395    5 stars\n",
       "Name: rating, Length: 33396, dtype: object"
      ]
     },
     "execution_count": 9,
     "metadata": {},
     "output_type": "execute_result"
    }
   ],
   "source": [
    "rev[\"rating\"]"
   ]
  },
  {
   "cell_type": "code",
   "execution_count": 14,
   "id": "c91d2015",
   "metadata": {},
   "outputs": [],
   "source": [
    "rev[\"numeric_rating\"] = rev[\"rating\"].str.extract('(\\d+)').astype(float)"
   ]
  },
  {
   "cell_type": "code",
   "execution_count": 15,
   "id": "d4c16f3e",
   "metadata": {},
   "outputs": [
    {
     "data": {
      "text/plain": [
       "0        1.0\n",
       "1        4.0\n",
       "2        1.0\n",
       "3        5.0\n",
       "4        1.0\n",
       "        ... \n",
       "33391    1.0\n",
       "33392    5.0\n",
       "33393    4.0\n",
       "33394    5.0\n",
       "33395    5.0\n",
       "Name: numeric_rating, Length: 33396, dtype: float64"
      ]
     },
     "execution_count": 15,
     "metadata": {},
     "output_type": "execute_result"
    }
   ],
   "source": [
    "rev[\"numeric_rating\"]"
   ]
  },
  {
   "cell_type": "code",
   "execution_count": 16,
   "id": "366b1d2b",
   "metadata": {},
   "outputs": [],
   "source": [
    "del rev[\"rating\"]"
   ]
  },
  {
   "cell_type": "code",
   "execution_count": 18,
   "id": "d853e087",
   "metadata": {},
   "outputs": [
    {
     "data": {
      "text/html": [
       "<div>\n",
       "<style scoped>\n",
       "    .dataframe tbody tr th:only-of-type {\n",
       "        vertical-align: middle;\n",
       "    }\n",
       "\n",
       "    .dataframe tbody tr th {\n",
       "        vertical-align: top;\n",
       "    }\n",
       "\n",
       "    .dataframe thead th {\n",
       "        text-align: right;\n",
       "    }\n",
       "</style>\n",
       "<table border=\"1\" class=\"dataframe\">\n",
       "  <thead>\n",
       "    <tr style=\"text-align: right;\">\n",
       "      <th></th>\n",
       "      <th>review_time</th>\n",
       "      <th>cleaned_review</th>\n",
       "      <th>numeric_rating</th>\n",
       "    </tr>\n",
       "  </thead>\n",
       "  <tbody>\n",
       "    <tr>\n",
       "      <th>0</th>\n",
       "      <td>3 months ago</td>\n",
       "      <td>Why does it look like someone spit on my food\\...</td>\n",
       "      <td>1.0</td>\n",
       "    </tr>\n",
       "    <tr>\n",
       "      <th>1</th>\n",
       "      <td>5 days ago</td>\n",
       "      <td>It'd McDonalds. It is what it is as far as the...</td>\n",
       "      <td>4.0</td>\n",
       "    </tr>\n",
       "    <tr>\n",
       "      <th>2</th>\n",
       "      <td>5 days ago</td>\n",
       "      <td>Made a mobile order got to the speaker and che...</td>\n",
       "      <td>1.0</td>\n",
       "    </tr>\n",
       "    <tr>\n",
       "      <th>3</th>\n",
       "      <td>a month ago</td>\n",
       "      <td>My mc. Crispy chicken sandwich was  customer s...</td>\n",
       "      <td>5.0</td>\n",
       "    </tr>\n",
       "    <tr>\n",
       "      <th>4</th>\n",
       "      <td>2 months ago</td>\n",
       "      <td>I repeat my order 3 times in the drive thru an...</td>\n",
       "      <td>1.0</td>\n",
       "    </tr>\n",
       "  </tbody>\n",
       "</table>\n",
       "</div>"
      ],
      "text/plain": [
       "    review_time                                     cleaned_review   \n",
       "0  3 months ago  Why does it look like someone spit on my food\\...  \\\n",
       "1    5 days ago  It'd McDonalds. It is what it is as far as the...   \n",
       "2    5 days ago  Made a mobile order got to the speaker and che...   \n",
       "3   a month ago  My mc. Crispy chicken sandwich was  customer s...   \n",
       "4  2 months ago  I repeat my order 3 times in the drive thru an...   \n",
       "\n",
       "   numeric_rating  \n",
       "0             1.0  \n",
       "1             4.0  \n",
       "2             1.0  \n",
       "3             5.0  \n",
       "4             1.0  "
      ]
     },
     "execution_count": 18,
     "metadata": {},
     "output_type": "execute_result"
    }
   ],
   "source": [
    "rev.head()"
   ]
  },
  {
   "cell_type": "code",
   "execution_count": 24,
   "id": "01ebfcc6",
   "metadata": {},
   "outputs": [
    {
     "data": {
      "text/html": [
       "<div>\n",
       "<style scoped>\n",
       "    .dataframe tbody tr th:only-of-type {\n",
       "        vertical-align: middle;\n",
       "    }\n",
       "\n",
       "    .dataframe tbody tr th {\n",
       "        vertical-align: top;\n",
       "    }\n",
       "\n",
       "    .dataframe thead th {\n",
       "        text-align: right;\n",
       "    }\n",
       "</style>\n",
       "<table border=\"1\" class=\"dataframe\">\n",
       "  <thead>\n",
       "    <tr style=\"text-align: right;\">\n",
       "      <th></th>\n",
       "      <th>review_time</th>\n",
       "      <th>modified_review_time</th>\n",
       "    </tr>\n",
       "  </thead>\n",
       "  <tbody>\n",
       "    <tr>\n",
       "      <th>0</th>\n",
       "      <td>3 months ago</td>\n",
       "      <td>2024-07-08</td>\n",
       "    </tr>\n",
       "    <tr>\n",
       "      <th>1</th>\n",
       "      <td>5 days ago</td>\n",
       "      <td>2024-10-03</td>\n",
       "    </tr>\n",
       "    <tr>\n",
       "      <th>2</th>\n",
       "      <td>5 days ago</td>\n",
       "      <td>2024-10-03</td>\n",
       "    </tr>\n",
       "    <tr>\n",
       "      <th>3</th>\n",
       "      <td>a month ago</td>\n",
       "      <td>Unknown Date</td>\n",
       "    </tr>\n",
       "    <tr>\n",
       "      <th>4</th>\n",
       "      <td>2 months ago</td>\n",
       "      <td>2024-08-08</td>\n",
       "    </tr>\n",
       "    <tr>\n",
       "      <th>...</th>\n",
       "      <td>...</td>\n",
       "      <td>...</td>\n",
       "    </tr>\n",
       "    <tr>\n",
       "      <th>33391</th>\n",
       "      <td>4 years ago</td>\n",
       "      <td>2020-10-08</td>\n",
       "    </tr>\n",
       "    <tr>\n",
       "      <th>33392</th>\n",
       "      <td>a year ago</td>\n",
       "      <td>Unknown Date</td>\n",
       "    </tr>\n",
       "    <tr>\n",
       "      <th>33393</th>\n",
       "      <td>a year ago</td>\n",
       "      <td>Unknown Date</td>\n",
       "    </tr>\n",
       "    <tr>\n",
       "      <th>33394</th>\n",
       "      <td>5 years ago</td>\n",
       "      <td>2019-10-08</td>\n",
       "    </tr>\n",
       "    <tr>\n",
       "      <th>33395</th>\n",
       "      <td>2 years ago</td>\n",
       "      <td>2022-10-08</td>\n",
       "    </tr>\n",
       "  </tbody>\n",
       "</table>\n",
       "<p>33396 rows × 2 columns</p>\n",
       "</div>"
      ],
      "text/plain": [
       "        review_time modified_review_time\n",
       "0      3 months ago           2024-07-08\n",
       "1        5 days ago           2024-10-03\n",
       "2        5 days ago           2024-10-03\n",
       "3       a month ago         Unknown Date\n",
       "4      2 months ago           2024-08-08\n",
       "...             ...                  ...\n",
       "33391   4 years ago           2020-10-08\n",
       "33392    a year ago         Unknown Date\n",
       "33393    a year ago         Unknown Date\n",
       "33394   5 years ago           2019-10-08\n",
       "33395   2 years ago           2022-10-08\n",
       "\n",
       "[33396 rows x 2 columns]"
      ]
     },
     "execution_count": 24,
     "metadata": {},
     "output_type": "execute_result"
    }
   ],
   "source": [
    "from dateutil.relativedelta import relativedelta\n",
    "from datetime import datetime\n",
    "\n",
    "# Function to convert time periods to datetime objects\n",
    "def convert_to_datetime(period):\n",
    "    if 'year' in period:\n",
    "        if period.split()[0].isdigit():\n",
    "            num_years = int(period.split()[0])\n",
    "            return datetime.now() - relativedelta(years=num_years)\n",
    "    elif 'month' in period:\n",
    "        if period.split()[0].isdigit():\n",
    "            num_months = int(period.split()[0])\n",
    "            return datetime.now() - relativedelta(months=num_months)\n",
    "    elif 'week' in period:\n",
    "        if period.split()[0].isdigit():\n",
    "            num_weeks = int(period.split()[0])\n",
    "            return datetime.now() - relativedelta(weeks=num_weeks)\n",
    "    elif 'day' in period:\n",
    "        if period.split()[0].isdigit():\n",
    "            num_days = int(period.split()[0])\n",
    "            return datetime.now() - relativedelta(days=num_days)\n",
    "    return None  # Return None for unmatched patterns\n",
    "\n",
    "# Apply the function to the 'review_time' column and create a new 'modified_review_time' column with only the dates\n",
    "rev['modified_review_time'] = rev['review_time'].apply(lambda x: convert_to_datetime(x).date() if convert_to_datetime(x) else \"Unknown Date\")\n",
    "rev[[\"review_time\", \"modified_review_time\"]]\n"
   ]
  },
  {
   "cell_type": "code",
   "execution_count": 26,
   "id": "fe9cf986",
   "metadata": {},
   "outputs": [],
   "source": [
    "# convert the new review_time column and Group the dates by year and count occurrences\n",
    "rev['modified_review_time'] = pd.to_datetime(rev['modified_review_time'], errors='coerce')\n",
    "grouped_dates = rev.groupby(rev['modified_review_time'].dt.year)['modified_review_time'].count()"
   ]
  },
  {
   "cell_type": "code",
   "execution_count": 27,
   "id": "c6cc2ebd",
   "metadata": {},
   "outputs": [
    {
     "name": "stdout",
     "output_type": "stream",
     "text": [
      "modified_review_time\n",
      "2012.0       4\n",
      "2013.0      10\n",
      "2014.0      38\n",
      "2015.0      52\n",
      "2016.0      91\n",
      "2017.0     387\n",
      "2018.0    1679\n",
      "2019.0    4306\n",
      "2020.0    6740\n",
      "2021.0    5522\n",
      "2022.0    3892\n",
      "2023.0     960\n",
      "2024.0    4264\n",
      "Name: modified_review_time, dtype: int64\n"
     ]
    }
   ],
   "source": [
    "print(grouped_dates)"
   ]
  },
  {
   "cell_type": "code",
   "execution_count": 28,
   "id": "64dcdd49",
   "metadata": {},
   "outputs": [],
   "source": [
    "random_rev = rev['cleaned_review'][100]"
   ]
  },
  {
   "cell_type": "code",
   "execution_count": 29,
   "id": "32109e86",
   "metadata": {},
   "outputs": [
    {
     "data": {
      "text/plain": [
       "\"I love going to McDonald's in that area because that's where I get most of my food for my family and my grandchildren and they love me when I bring stuff to him like every couple days so it's great to go to that McDonald's McDonald's is a good spot for taking my grandkids and buy him food there are the greatest thing that they're right off of lake Creek thank you for putting it there\""
      ]
     },
     "execution_count": 29,
     "metadata": {},
     "output_type": "execute_result"
    }
   ],
   "source": [
    "random_rev"
   ]
  },
  {
   "cell_type": "code",
   "execution_count": 30,
   "id": "50bc4693",
   "metadata": {},
   "outputs": [
    {
     "data": {
      "text/plain": [
       "{'neg': 0.0, 'neu': 0.723, 'pos': 0.277, 'compound': 0.9773}"
      ]
     },
     "execution_count": 30,
     "metadata": {},
     "output_type": "execute_result"
    }
   ],
   "source": [
    "#apply VADER\n",
    "\n",
    "analyzer = SentimentIntensityAnalyzer()\n",
    "\n",
    "analyzer.polarity_scores(random_rev)"
   ]
  },
  {
   "cell_type": "code",
   "execution_count": 31,
   "id": "12613f09",
   "metadata": {},
   "outputs": [],
   "source": [
    "#apply VANDER to all reviews\n",
    "\n",
    "analyzer = SentimentIntensityAnalyzer()\n",
    "\n",
    "body = rev.cleaned_review\n",
    "neg, neu, pos, compound, tag = [], [], [], [], []\n",
    "\n",
    "for review in body:\n",
    "    res = analyzer.polarity_scores(str(review))\n",
    "    neg.append(res['neg'])\n",
    "    neu.append(res['neu'])\n",
    "    pos.append(res['pos'])\n",
    "    compound.append(res['compound'])\n",
    "\n",
    "    # Assigning sentiment tags based on VADER scores for each review\n",
    "    if res['compound'] >= 0.05:\n",
    "        tag.append(\"Positive\")\n",
    "    elif res['compound'] <= -0.05:\n",
    "        tag.append(\"Negative\")\n",
    "    else:\n",
    "        tag.append(\"Neutral\")\n",
    "\n",
    "# Append results to the dataframe\n",
    "rev[\"Negative\"] = neg\n",
    "rev[\"Neutral\"] = neu\n",
    "rev[\"Positive\"] = pos\n",
    "rev[\"Compound\"] = compound\n",
    "rev[\"Sentiment_Tag\"] = tag"
   ]
  },
  {
   "cell_type": "code",
   "execution_count": 32,
   "id": "55b66909",
   "metadata": {},
   "outputs": [
    {
     "data": {
      "text/html": [
       "<div>\n",
       "<style scoped>\n",
       "    .dataframe tbody tr th:only-of-type {\n",
       "        vertical-align: middle;\n",
       "    }\n",
       "\n",
       "    .dataframe tbody tr th {\n",
       "        vertical-align: top;\n",
       "    }\n",
       "\n",
       "    .dataframe thead th {\n",
       "        text-align: right;\n",
       "    }\n",
       "</style>\n",
       "<table border=\"1\" class=\"dataframe\">\n",
       "  <thead>\n",
       "    <tr style=\"text-align: right;\">\n",
       "      <th></th>\n",
       "      <th>review_time</th>\n",
       "      <th>cleaned_review</th>\n",
       "      <th>numeric_rating</th>\n",
       "      <th>review_time_converted</th>\n",
       "      <th>modified_review_time</th>\n",
       "      <th>Negative</th>\n",
       "      <th>Neutral</th>\n",
       "      <th>Positive</th>\n",
       "      <th>Compound</th>\n",
       "      <th>Sentiment_Tag</th>\n",
       "    </tr>\n",
       "  </thead>\n",
       "  <tbody>\n",
       "    <tr>\n",
       "      <th>33391</th>\n",
       "      <td>4 years ago</td>\n",
       "      <td>They treated me very badly.</td>\n",
       "      <td>1.0</td>\n",
       "      <td>2024-10-08 14:11:03.831762</td>\n",
       "      <td>2020-10-08</td>\n",
       "      <td>0.459</td>\n",
       "      <td>0.541</td>\n",
       "      <td>0.000</td>\n",
       "      <td>-0.5256</td>\n",
       "      <td>Negative</td>\n",
       "    </tr>\n",
       "    <tr>\n",
       "      <th>33392</th>\n",
       "      <td>a year ago</td>\n",
       "      <td>The service is very good</td>\n",
       "      <td>5.0</td>\n",
       "      <td>2024-10-08 14:11:03.831763</td>\n",
       "      <td>NaT</td>\n",
       "      <td>0.000</td>\n",
       "      <td>0.556</td>\n",
       "      <td>0.444</td>\n",
       "      <td>0.4927</td>\n",
       "      <td>Positive</td>\n",
       "    </tr>\n",
       "    <tr>\n",
       "      <th>33393</th>\n",
       "      <td>a year ago</td>\n",
       "      <td>To remove hunger is enough</td>\n",
       "      <td>4.0</td>\n",
       "      <td>2024-10-08 14:11:03.831763</td>\n",
       "      <td>NaT</td>\n",
       "      <td>0.333</td>\n",
       "      <td>0.667</td>\n",
       "      <td>0.000</td>\n",
       "      <td>-0.2500</td>\n",
       "      <td>Negative</td>\n",
       "    </tr>\n",
       "    <tr>\n",
       "      <th>33394</th>\n",
       "      <td>5 years ago</td>\n",
       "      <td>It's good but lately it has become very expens...</td>\n",
       "      <td>5.0</td>\n",
       "      <td>2024-10-08 14:11:03.831764</td>\n",
       "      <td>2019-10-08</td>\n",
       "      <td>0.000</td>\n",
       "      <td>0.804</td>\n",
       "      <td>0.196</td>\n",
       "      <td>0.2382</td>\n",
       "      <td>Positive</td>\n",
       "    </tr>\n",
       "    <tr>\n",
       "      <th>33395</th>\n",
       "      <td>2 years ago</td>\n",
       "      <td>they took good care of me</td>\n",
       "      <td>5.0</td>\n",
       "      <td>2024-10-08 14:11:03.831764</td>\n",
       "      <td>2022-10-08</td>\n",
       "      <td>0.000</td>\n",
       "      <td>0.396</td>\n",
       "      <td>0.604</td>\n",
       "      <td>0.7269</td>\n",
       "      <td>Positive</td>\n",
       "    </tr>\n",
       "  </tbody>\n",
       "</table>\n",
       "</div>"
      ],
      "text/plain": [
       "       review_time                                     cleaned_review   \n",
       "33391  4 years ago                        They treated me very badly.  \\\n",
       "33392   a year ago                           The service is very good   \n",
       "33393   a year ago                         To remove hunger is enough   \n",
       "33394  5 years ago  It's good but lately it has become very expens...   \n",
       "33395  2 years ago                          they took good care of me   \n",
       "\n",
       "       numeric_rating      review_time_converted modified_review_time   \n",
       "33391             1.0 2024-10-08 14:11:03.831762           2020-10-08  \\\n",
       "33392             5.0 2024-10-08 14:11:03.831763                  NaT   \n",
       "33393             4.0 2024-10-08 14:11:03.831763                  NaT   \n",
       "33394             5.0 2024-10-08 14:11:03.831764           2019-10-08   \n",
       "33395             5.0 2024-10-08 14:11:03.831764           2022-10-08   \n",
       "\n",
       "       Negative  Neutral  Positive  Compound Sentiment_Tag  \n",
       "33391     0.459    0.541     0.000   -0.5256      Negative  \n",
       "33392     0.000    0.556     0.444    0.4927      Positive  \n",
       "33393     0.333    0.667     0.000   -0.2500      Negative  \n",
       "33394     0.000    0.804     0.196    0.2382      Positive  \n",
       "33395     0.000    0.396     0.604    0.7269      Positive  "
      ]
     },
     "execution_count": 32,
     "metadata": {},
     "output_type": "execute_result"
    }
   ],
   "source": [
    "rev.tail()"
   ]
  },
  {
   "cell_type": "code",
   "execution_count": 33,
   "id": "76dac651",
   "metadata": {},
   "outputs": [
    {
     "data": {
      "text/plain": [
       "Sentiment_Tag\n",
       "Positive    17414\n",
       "Negative     9608\n",
       "Neutral      6374\n",
       "Name: count, dtype: int64"
      ]
     },
     "execution_count": 33,
     "metadata": {},
     "output_type": "execute_result"
    }
   ],
   "source": [
    "rev['Sentiment_Tag'].value_counts()"
   ]
  },
  {
   "cell_type": "code",
   "execution_count": null,
   "id": "22d67132",
   "metadata": {},
   "outputs": [],
   "source": []
  }
 ],
 "metadata": {
  "kernelspec": {
   "display_name": "Python 3 (ipykernel)",
   "language": "python",
   "name": "python3"
  },
  "language_info": {
   "codemirror_mode": {
    "name": "ipython",
    "version": 3
   },
   "file_extension": ".py",
   "mimetype": "text/x-python",
   "name": "python",
   "nbconvert_exporter": "python",
   "pygments_lexer": "ipython3",
   "version": "3.11.5"
  }
 },
 "nbformat": 4,
 "nbformat_minor": 5
}
